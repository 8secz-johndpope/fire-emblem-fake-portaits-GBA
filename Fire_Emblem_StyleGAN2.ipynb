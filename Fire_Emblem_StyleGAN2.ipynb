{
  "nbformat": 4,
  "nbformat_minor": 0,
  "metadata": {
    "colab": {
      "name": "Fire_Emblem_StyleGAN2.ipynb",
      "provenance": [],
      "collapsed_sections": [],
      "machine_shape": "hm",
      "include_colab_link": true
    },
    "kernelspec": {
      "name": "python3",
      "display_name": "Python 3"
    },
    "accelerator": "GPU"
  },
  "cells": [
    {
      "cell_type": "markdown",
      "metadata": {
        "id": "view-in-github",
        "colab_type": "text"
      },
      "source": [
        "<a href=\"https://colab.research.google.com/github/mphirke/fire-emblem-fake-portaits-GBA/blob/master/Fire_Emblem_StyleGAN2.ipynb\" target=\"_parent\"><img src=\"https://colab.research.google.com/assets/colab-badge.svg\" alt=\"Open In Colab\"/></a>"
      ]
    },
    {
      "cell_type": "markdown",
      "metadata": {
        "id": "8UDVO2FGKIQw",
        "colab_type": "text"
      },
      "source": [
        "# StyleGAN2: training a Fire Emblem GBA portait model\n",
        "References:\n",
        "- Steam StyleGAN2 by woctezuma: https://github.com/woctezuma/steam-stylegan2\n",
        "- the original StyleGAN2 repository: https://github.com/NVlabs/stylegan2\n",
        "- woctezuma's fork of StyleGAN2: https://github.com/woctezuma/stylegan2 for easy saving results in google drive.\n",
        "\n"
      ]
    },
    {
      "cell_type": "markdown",
      "metadata": {
        "id": "N0wX_GxarslT",
        "colab_type": "text"
      },
      "source": [
        "### Request more RAM (once per session)"
      ]
    },
    {
      "cell_type": "markdown",
      "metadata": {
        "id": "Qjh5oBhkru6O",
        "colab_type": "text"
      },
      "source": [
        "\n",
        "It might not be required but if your runtime crashes, \n",
        "uncomment and run the following cell if you do not have Colab high RAM (26 GB).\n",
        "\n",
        "To have access to more memory, crash the Google Colab session  once.\n",
        "\n",
        "References:\n",
        "-   https://github.com/googlecolab/colabtools/issues/253#issuecomment-551056637\n",
        "-   https://colab.research.google.com/drive/1dBN-wwYUngLYVt985wGs_OKPlK_ANB9D\n",
        "\n",
        "Remember to comment it out after you get high RAM session (if you need it) else your session will keep crashing.\n"
      ]
    },
    {
      "cell_type": "code",
      "metadata": {
        "id": "lLP2m_K1sgu4",
        "colab_type": "code",
        "colab": {}
      },
      "source": [
        "# d = [ '0' ]\n",
        "# while(True):\n",
        "#   d += d"
      ],
      "execution_count": null,
      "outputs": []
    },
    {
      "cell_type": "markdown",
      "metadata": {
        "id": "4929mTMm_bJP",
        "colab_type": "text"
      },
      "source": [
        "### Check the GPU"
      ]
    },
    {
      "cell_type": "code",
      "metadata": {
        "id": "eJj2bOM-9aur",
        "colab_type": "code",
        "colab": {
          "base_uri": "https://localhost:8080/",
          "height": 35
        },
        "outputId": "2ccdce2d-df60-439d-9e0e-e66d5bd00f47"
      },
      "source": [
        "!nvidia-smi -L"
      ],
      "execution_count": null,
      "outputs": [
        {
          "output_type": "stream",
          "text": [
            "GPU 0: Tesla P100-PCIE-16GB (UUID: GPU-e7aa78eb-f344-2456-a236-b8e368afc717)\n"
          ],
          "name": "stdout"
        }
      ]
    },
    {
      "cell_type": "markdown",
      "metadata": {
        "id": "sbWQ38fBoo4h",
        "colab_type": "text"
      },
      "source": [
        "### Switch to Tensorflow 1.x"
      ]
    },
    {
      "cell_type": "markdown",
      "metadata": {
        "id": "is5dko6You4K",
        "colab_type": "text"
      },
      "source": [
        "The default TensorFlow version in Colab switched from  1.x to 2.x on the 27th of March, 2020.\n",
        "\n",
        "Reference: https://colab.research.google.com/notebooks/tensorflow_version.ipynb\n",
        "\n",
        "We switch to version 1.x to avoid the following error:\n",
        "> `ModuleNotFoundError: No module named 'tensorflow.contrib' colab`"
      ]
    },
    {
      "cell_type": "code",
      "metadata": {
        "id": "kHL4_p1xnoDY",
        "colab_type": "code",
        "colab": {}
      },
      "source": [
        "%tensorflow_version 1.x"
      ],
      "execution_count": null,
      "outputs": []
    },
    {
      "cell_type": "markdown",
      "metadata": {
        "id": "YtTaNA41IQ-5",
        "colab_type": "text"
      },
      "source": [
        "The following code downloads my preprocessed data. If you have your own custom images, I have attachted python scripts in Github repo (Read Github README) to know how to preprocess your own custom images to feed to the model."
      ]
    },
    {
      "cell_type": "code",
      "metadata": {
        "id": "e5WdKiqWfWF4",
        "colab_type": "code",
        "colab": {
          "base_uri": "https://localhost:8080/",
          "height": 1000
        },
        "outputId": "316d5a36-2414-4d34-defd-6881a6d5651f"
      },
      "source": [
        "!wget https://www.dropbox.com/s/kxs71laczusdx4g/FE_vanilla.zip\n",
        "!unzip -o FE_vanilla.zip"
      ],
      "execution_count": null,
      "outputs": [
        {
          "output_type": "stream",
          "text": [
            "--2020-07-30 11:18:35--  https://www.dropbox.com/s/kxs71laczusdx4g/FE_vanilla.zip\n",
            "Resolving www.dropbox.com (www.dropbox.com)... 162.125.1.1, 2620:100:6016:1::a27d:101\n",
            "Connecting to www.dropbox.com (www.dropbox.com)|162.125.1.1|:443... connected.\n",
            "HTTP request sent, awaiting response... 301 Moved Permanently\n",
            "Location: /s/raw/kxs71laczusdx4g/FE_vanilla.zip [following]\n",
            "--2020-07-30 11:18:35--  https://www.dropbox.com/s/raw/kxs71laczusdx4g/FE_vanilla.zip\n",
            "Reusing existing connection to www.dropbox.com:443.\n",
            "HTTP request sent, awaiting response... 302 Found\n",
            "Location: https://uc7f727cb6536d68a5b8e4c21b90.dl.dropboxusercontent.com/cd/0/inline/A8iB1LDFtpATQCj3ZP_SwvalAOB1SEw7jx0t1UBOS9V3kKo4pbZSmj4Bs9NDJN-7ZgpY8MzPruGZZbZYYP1t31Ds5MqQQkg1jYpWenDwVE48ypMKQ_yYu3mzT3IOduTo6Xo/file# [following]\n",
            "--2020-07-30 11:18:35--  https://uc7f727cb6536d68a5b8e4c21b90.dl.dropboxusercontent.com/cd/0/inline/A8iB1LDFtpATQCj3ZP_SwvalAOB1SEw7jx0t1UBOS9V3kKo4pbZSmj4Bs9NDJN-7ZgpY8MzPruGZZbZYYP1t31Ds5MqQQkg1jYpWenDwVE48ypMKQ_yYu3mzT3IOduTo6Xo/file\n",
            "Resolving uc7f727cb6536d68a5b8e4c21b90.dl.dropboxusercontent.com (uc7f727cb6536d68a5b8e4c21b90.dl.dropboxusercontent.com)... 162.125.1.15, 2620:100:6016:15::a27d:10f\n",
            "Connecting to uc7f727cb6536d68a5b8e4c21b90.dl.dropboxusercontent.com (uc7f727cb6536d68a5b8e4c21b90.dl.dropboxusercontent.com)|162.125.1.15|:443... connected.\n",
            "HTTP request sent, awaiting response... 302 Found\n",
            "Location: /cd/0/inline2/A8ilF-pbouVp5Fngr5L-sRRVh7j8xzAbyLeg6oN1rs9dO9KSoErbiKjRiwdnQ5zkqp6JTNCkPDhForkLPcaRkppYY_wc08QjyIDZyu-9Wi3_tOfM1aeuR3bqmBc-Wi-GrPnXiC7YcyHR-XY5j7q9Y_grRcMWLm-aOvbmem1t02uWjbUssrAC0L_3qBVx3vOOECJ53Q6-dwmW9lvun7gWK1KxU7UnPe9hL-uUyjiXEyJDiFDELhvf5cIJRl_RHcrCbNr9XIwgAoYp7zcoYSWc2suwwYb5LB2MrlWWqPSQWFIDe110LCPyJnTGvYkDWhA56Cb37CVq2640tELnYxldsfmML1H1EeBYtzzxAqRxjHwn4A/file [following]\n",
            "--2020-07-30 11:18:35--  https://uc7f727cb6536d68a5b8e4c21b90.dl.dropboxusercontent.com/cd/0/inline2/A8ilF-pbouVp5Fngr5L-sRRVh7j8xzAbyLeg6oN1rs9dO9KSoErbiKjRiwdnQ5zkqp6JTNCkPDhForkLPcaRkppYY_wc08QjyIDZyu-9Wi3_tOfM1aeuR3bqmBc-Wi-GrPnXiC7YcyHR-XY5j7q9Y_grRcMWLm-aOvbmem1t02uWjbUssrAC0L_3qBVx3vOOECJ53Q6-dwmW9lvun7gWK1KxU7UnPe9hL-uUyjiXEyJDiFDELhvf5cIJRl_RHcrCbNr9XIwgAoYp7zcoYSWc2suwwYb5LB2MrlWWqPSQWFIDe110LCPyJnTGvYkDWhA56Cb37CVq2640tELnYxldsfmML1H1EeBYtzzxAqRxjHwn4A/file\n",
            "Reusing existing connection to uc7f727cb6536d68a5b8e4c21b90.dl.dropboxusercontent.com:443.\n",
            "HTTP request sent, awaiting response... 200 OK\n",
            "Length: 8317964 (7.9M) [application/zip]\n",
            "Saving to: ‘FE_vanilla.zip’\n",
            "\n",
            "FE_vanilla.zip      100%[===================>]   7.93M  43.7MB/s    in 0.2s    \n",
            "\n",
            "2020-07-30 11:18:36 (43.7 MB/s) - ‘FE_vanilla.zip’ saved [8317964/8317964]\n",
            "\n",
            "Archive:  FE_vanilla.zip\n",
            "   creating: FE_vanilla/\n",
            "  inflating: FE_vanilla/FEGBA0001.png  \n",
            "  inflating: FE_vanilla/FEGBA0002.png  \n",
            "  inflating: FE_vanilla/FEGBA0003.png  \n",
            "  inflating: FE_vanilla/FEGBA0004.png  \n",
            "  inflating: FE_vanilla/FEGBA0005.png  \n",
            "  inflating: FE_vanilla/FEGBA0006.png  \n",
            "  inflating: FE_vanilla/FEGBA0007.png  \n",
            "  inflating: FE_vanilla/FEGBA0009.png  \n",
            "  inflating: FE_vanilla/FEGBA0010.png  \n",
            "  inflating: FE_vanilla/FEGBA0011.png  \n",
            "  inflating: FE_vanilla/FEGBA0012.png  \n",
            "  inflating: FE_vanilla/FEGBA0013.png  \n",
            "  inflating: FE_vanilla/FEGBA0014.png  \n",
            "  inflating: FE_vanilla/FEGBA0015.png  \n",
            "  inflating: FE_vanilla/FEGBA0017.png  \n",
            "  inflating: FE_vanilla/FEGBA0018.png  \n",
            "  inflating: FE_vanilla/FEGBA0019.png  \n",
            "  inflating: FE_vanilla/FEGBA0020.png  \n",
            "  inflating: FE_vanilla/FEGBA0021.png  \n",
            "  inflating: FE_vanilla/FEGBA0022.png  \n",
            "  inflating: FE_vanilla/FEGBA0023.png  \n",
            "  inflating: FE_vanilla/FEGBA0024.png  \n",
            "  inflating: FE_vanilla/FEGBA0025.png  \n",
            "  inflating: FE_vanilla/FEGBA0026.png  \n",
            "  inflating: FE_vanilla/FEGBA0027.png  \n",
            "  inflating: FE_vanilla/FEGBA0028.png  \n",
            "  inflating: FE_vanilla/FEGBA0029.png  \n",
            "  inflating: FE_vanilla/FEGBA0030.png  \n",
            "  inflating: FE_vanilla/FEGBA0031.png  \n",
            "  inflating: FE_vanilla/FEGBA0032.png  \n",
            "  inflating: FE_vanilla/FEGBA0033.png  \n",
            "  inflating: FE_vanilla/FEGBA0034.png  \n",
            "  inflating: FE_vanilla/FEGBA0035.png  \n",
            "  inflating: FE_vanilla/FEGBA0036.png  \n",
            "  inflating: FE_vanilla/FEGBA0037.png  \n",
            "  inflating: FE_vanilla/FEGBA0038.png  \n",
            "  inflating: FE_vanilla/FEGBA0039.png  \n",
            "  inflating: FE_vanilla/FEGBA0040.png  \n",
            "  inflating: FE_vanilla/FEGBA0041.png  \n",
            "  inflating: FE_vanilla/FEGBA0042.png  \n",
            "  inflating: FE_vanilla/FEGBA0043.png  \n",
            "  inflating: FE_vanilla/FEGBA0044.png  \n",
            "  inflating: FE_vanilla/FEGBA0045.png  \n",
            "  inflating: FE_vanilla/FEGBA0046.png  \n",
            "  inflating: FE_vanilla/FEGBA0047.png  \n",
            "  inflating: FE_vanilla/FEGBA0048.png  \n",
            "  inflating: FE_vanilla/FEGBA0049.png  \n",
            "  inflating: FE_vanilla/FEGBA0050.png  \n",
            "  inflating: FE_vanilla/FEGBA0051.png  \n",
            "  inflating: FE_vanilla/FEGBA0052.png  \n",
            "  inflating: FE_vanilla/FEGBA0053.png  \n",
            "  inflating: FE_vanilla/FEGBA0054.png  \n",
            "  inflating: FE_vanilla/FEGBA0055.png  \n",
            "  inflating: FE_vanilla/FEGBA0056.png  \n",
            "  inflating: FE_vanilla/FEGBA0057.png  \n",
            "  inflating: FE_vanilla/FEGBA0058.png  \n",
            "  inflating: FE_vanilla/FEGBA0059.png  \n",
            "  inflating: FE_vanilla/FEGBA0060.png  \n",
            "  inflating: FE_vanilla/FEGBA0061.png  \n",
            "  inflating: FE_vanilla/FEGBA0062.png  \n",
            "  inflating: FE_vanilla/FEGBA0063.png  \n",
            "  inflating: FE_vanilla/FEGBA0064.png  \n",
            "  inflating: FE_vanilla/FEGBA0065.png  \n",
            "  inflating: FE_vanilla/FEGBA0066.png  \n",
            "  inflating: FE_vanilla/FEGBA0067.png  \n",
            "  inflating: FE_vanilla/FEGBA0068.png  \n",
            "  inflating: FE_vanilla/FEGBA0069.png  \n",
            "  inflating: FE_vanilla/FEGBA0070.png  \n",
            "  inflating: FE_vanilla/FEGBA0071.png  \n",
            "  inflating: FE_vanilla/FEGBA0072.png  \n",
            "  inflating: FE_vanilla/FEGBA0073.png  \n",
            "  inflating: FE_vanilla/FEGBA0074.png  \n",
            "  inflating: FE_vanilla/FEGBA0075.png  \n",
            "  inflating: FE_vanilla/FEGBA0076.png  \n",
            "  inflating: FE_vanilla/FEGBA0077.png  \n",
            "  inflating: FE_vanilla/FEGBA0078.png  \n",
            "  inflating: FE_vanilla/FEGBA0079.png  \n",
            "  inflating: FE_vanilla/FEGBA0080.png  \n",
            "  inflating: FE_vanilla/FEGBA0081.png  \n",
            "  inflating: FE_vanilla/FEGBA0082.png  \n",
            "  inflating: FE_vanilla/FEGBA0083.png  \n",
            "  inflating: FE_vanilla/FEGBA0084.png  \n",
            "  inflating: FE_vanilla/FEGBA0085.png  \n",
            "  inflating: FE_vanilla/FEGBA0086.png  \n",
            "  inflating: FE_vanilla/FEGBA0087.png  \n",
            "  inflating: FE_vanilla/FEGBA0088.png  \n",
            "  inflating: FE_vanilla/FEGBA0089.png  \n",
            "  inflating: FE_vanilla/FEGBA0090.png  \n",
            "  inflating: FE_vanilla/FEGBA0091.png  \n",
            "  inflating: FE_vanilla/FEGBA0092.png  \n",
            "  inflating: FE_vanilla/FEGBA0093.png  \n",
            "  inflating: FE_vanilla/FEGBA0094.png  \n",
            "  inflating: FE_vanilla/FEGBA0095.png  \n",
            "  inflating: FE_vanilla/FEGBA0096.png  \n",
            "  inflating: FE_vanilla/FEGBA0097.png  \n",
            "  inflating: FE_vanilla/FEGBA0098.png  \n",
            "  inflating: FE_vanilla/FEGBA0099.png  \n",
            "  inflating: FE_vanilla/FEGBA0100.png  \n",
            "  inflating: FE_vanilla/FEGBA0101.png  \n",
            "  inflating: FE_vanilla/FEGBA0102.png  \n",
            "  inflating: FE_vanilla/FEGBA0103.png  \n",
            "  inflating: FE_vanilla/FEGBA0104.png  \n",
            "  inflating: FE_vanilla/FEGBA0105.png  \n",
            "  inflating: FE_vanilla/FEGBA0106.png  \n",
            "  inflating: FE_vanilla/FEGBA0107.png  \n",
            "  inflating: FE_vanilla/FEGBA0108.png  \n",
            "  inflating: FE_vanilla/FEGBA0109.png  \n",
            "  inflating: FE_vanilla/FEGBA0110.png  \n",
            "  inflating: FE_vanilla/FEGBA0111.png  \n",
            "  inflating: FE_vanilla/FEGBA0112.png  \n",
            "  inflating: FE_vanilla/FEGBA0113.png  \n",
            "  inflating: FE_vanilla/FEGBA0114.png  \n",
            "  inflating: FE_vanilla/FEGBA0115.png  \n",
            "  inflating: FE_vanilla/FEGBA0116.png  \n",
            "  inflating: FE_vanilla/FEGBA0117.png  \n",
            "  inflating: FE_vanilla/FEGBA0118.png  \n",
            "  inflating: FE_vanilla/FEGBA0119.png  \n",
            "  inflating: FE_vanilla/FEGBA0120.png  \n",
            "  inflating: FE_vanilla/FEGBA0121.png  \n",
            "  inflating: FE_vanilla/FEGBA0122.png  \n",
            "  inflating: FE_vanilla/FEGBA0123.png  \n",
            "  inflating: FE_vanilla/FEGBA0124.png  \n",
            "  inflating: FE_vanilla/FEGBA0125.png  \n",
            "  inflating: FE_vanilla/FEGBA0126.png  \n",
            "  inflating: FE_vanilla/FEGBA0127.png  \n",
            "  inflating: FE_vanilla/FEGBA0128.png  \n",
            "  inflating: FE_vanilla/FEGBA0129.png  \n",
            "  inflating: FE_vanilla/FEGBA0130.png  \n",
            "  inflating: FE_vanilla/FEGBA0131.png  \n",
            "  inflating: FE_vanilla/FEGBA0132.png  \n",
            "  inflating: FE_vanilla/FEGBA0133.png  \n",
            "  inflating: FE_vanilla/FEGBA0134.png  \n",
            "  inflating: FE_vanilla/FEGBA0135.png  \n",
            "  inflating: FE_vanilla/FEGBA0136.png  \n",
            "  inflating: FE_vanilla/FEGBA0137.png  \n",
            "  inflating: FE_vanilla/FEGBA0138.png  \n",
            "  inflating: FE_vanilla/FEGBA0139.png  \n",
            "  inflating: FE_vanilla/FEGBA0140.png  \n",
            "  inflating: FE_vanilla/FEGBA0141.png  \n",
            "  inflating: FE_vanilla/FEGBA0142.png  \n",
            "  inflating: FE_vanilla/FEGBA0143.png  \n",
            "  inflating: FE_vanilla/FEGBA0144.png  \n",
            "  inflating: FE_vanilla/FEGBA0145.png  \n",
            "  inflating: FE_vanilla/FEGBA0146.png  \n",
            "  inflating: FE_vanilla/FEGBA0147.png  \n",
            "  inflating: FE_vanilla/FEGBA0148.png  \n",
            "  inflating: FE_vanilla/FEGBA0149.png  \n",
            "  inflating: FE_vanilla/FEGBA0150.png  \n",
            "  inflating: FE_vanilla/FEGBA0151.png  \n",
            "  inflating: FE_vanilla/FEGBA0152.png  \n",
            "  inflating: FE_vanilla/FEGBA0153.png  \n",
            "  inflating: FE_vanilla/FEGBA0154.png  \n",
            "  inflating: FE_vanilla/FEGBA0155.png  \n",
            "  inflating: FE_vanilla/FEGBA0156.png  \n",
            "  inflating: FE_vanilla/FEGBA0157.png  \n",
            "  inflating: FE_vanilla/FEGBA0158.png  \n",
            "  inflating: FE_vanilla/FEGBA0159.png  \n",
            "  inflating: FE_vanilla/FEGBA0160.png  \n",
            "  inflating: FE_vanilla/FEGBA0161.png  \n",
            "  inflating: FE_vanilla/FEGBA0162.png  \n",
            "  inflating: FE_vanilla/FEGBA0163.png  \n",
            "  inflating: FE_vanilla/FEGBA0164.png  \n",
            "  inflating: FE_vanilla/FEGBA0165.png  \n",
            "  inflating: FE_vanilla/FEGBA0166.png  \n",
            "  inflating: FE_vanilla/FEGBA0167.png  \n",
            "  inflating: FE_vanilla/FEGBA0168.png  \n",
            "  inflating: FE_vanilla/FEGBA0169.png  \n",
            "  inflating: FE_vanilla/FEGBA0170.png  \n",
            "  inflating: FE_vanilla/FEGBA0171.png  \n",
            "  inflating: FE_vanilla/FEGBA0172.png  \n",
            "  inflating: FE_vanilla/FEGBA0173.png  \n",
            "  inflating: FE_vanilla/FEGBA0174.png  \n",
            "  inflating: FE_vanilla/FEGBA0175.png  \n",
            "  inflating: FE_vanilla/FEGBA0176.png  \n",
            "  inflating: FE_vanilla/FEGBA0177.png  \n",
            "  inflating: FE_vanilla/FEGBA0178.png  \n",
            "  inflating: FE_vanilla/FEGBA0179.png  \n",
            "  inflating: FE_vanilla/FEGBA0180.png  \n",
            "  inflating: FE_vanilla/FEGBA0181.png  \n",
            "  inflating: FE_vanilla/FEGBA0182.png  \n",
            "  inflating: FE_vanilla/FEGBA0183.png  \n",
            "  inflating: FE_vanilla/FEGBA0184.png  \n",
            "  inflating: FE_vanilla/FEGBA0185.png  \n",
            "  inflating: FE_vanilla/FEGBA0186.png  \n",
            "  inflating: FE_vanilla/FEGBA0187.png  \n",
            "  inflating: FE_vanilla/FEGBA0188.png  \n",
            "  inflating: FE_vanilla/FEGBA0189.png  \n",
            "  inflating: FE_vanilla/FEGBA0190.png  \n",
            "  inflating: FE_vanilla/FEGBA0191.png  \n",
            "  inflating: FE_vanilla/FEGBA0192.png  \n",
            "  inflating: FE_vanilla/FEGBA0193.png  \n",
            "  inflating: FE_vanilla/FEGBA0194.png  \n",
            "  inflating: FE_vanilla/FEGBA0195.png  \n",
            "  inflating: FE_vanilla/FEGBA0196.png  \n",
            "  inflating: FE_vanilla/FEGBA0197.png  \n",
            "  inflating: FE_vanilla/FEGBA0198.png  \n",
            "  inflating: FE_vanilla/FEGBA0199.png  \n",
            "  inflating: FE_vanilla/FEGBA0200.png  \n",
            "  inflating: FE_vanilla/FEGBA0201.png  \n",
            "  inflating: FE_vanilla/FEGBA0202.png  \n",
            "  inflating: FE_vanilla/FEGBA0203.png  \n",
            "  inflating: FE_vanilla/FEGBA0204.png  \n",
            "  inflating: FE_vanilla/FEGBA0205.png  \n",
            "  inflating: FE_vanilla/FEGBA0206.png  \n",
            "  inflating: FE_vanilla/FEGBA0207.png  \n",
            "  inflating: FE_vanilla/FEGBA0208.png  \n",
            "  inflating: FE_vanilla/FEGBA0209.png  \n",
            "  inflating: FE_vanilla/FEGBA0210.png  \n",
            "  inflating: FE_vanilla/FEGBA0211.png  \n",
            "  inflating: FE_vanilla/FEGBA0212.png  \n",
            "  inflating: FE_vanilla/FEGBA0213.png  \n",
            "  inflating: FE_vanilla/FEGBA0214.png  \n",
            "  inflating: FE_vanilla/FEGBA0215.png  \n",
            "  inflating: FE_vanilla/FEGBA0216.png  \n",
            "  inflating: FE_vanilla/FEGBA0217.png  \n",
            "  inflating: FE_vanilla/FEGBA0218.png  \n",
            "  inflating: FE_vanilla/FEGBA0219.png  \n",
            "  inflating: FE_vanilla/FEGBA0220.png  \n",
            "  inflating: FE_vanilla/FEGBA0221.png  \n",
            "  inflating: FE_vanilla/FEGBA0222.png  \n",
            "  inflating: FE_vanilla/FEGBA0223.png  \n",
            "  inflating: FE_vanilla/FEGBA0224.png  \n",
            "  inflating: FE_vanilla/FEGBA0225.png  \n",
            "  inflating: FE_vanilla/FEGBA0226.png  \n",
            "  inflating: FE_vanilla/FEGBA0227.png  \n",
            "  inflating: FE_vanilla/FEGBA0228.png  \n",
            "  inflating: FE_vanilla/FEGBA0229.png  \n",
            "  inflating: FE_vanilla/FEGBA0230.png  \n",
            "  inflating: FE_vanilla/FEGBA0231.png  \n",
            "  inflating: FE_vanilla/FEGBA0232.png  \n",
            "  inflating: FE_vanilla/FEGBA0233.png  \n",
            "  inflating: FE_vanilla/FEGBA0234.png  \n",
            "  inflating: FE_vanilla/FEGBA0235.png  \n",
            "  inflating: FE_vanilla/FEGBA0236.png  \n",
            "  inflating: FE_vanilla/FEGBA0237.png  \n",
            "  inflating: FE_vanilla/FEGBA0238.png  \n",
            "  inflating: FE_vanilla/FEGBA0239.png  \n",
            "  inflating: FE_vanilla/FEGBA0240.png  \n",
            "  inflating: FE_vanilla/FEGBA0241.png  \n",
            "  inflating: FE_vanilla/FEGBA0242.png  \n",
            "  inflating: FE_vanilla/FEGBA0243.png  \n",
            "  inflating: FE_vanilla/FEGBA0245.png  \n",
            "  inflating: FE_vanilla/FEGBA0246.png  \n",
            "  inflating: FE_vanilla/FEGBA0247.png  \n",
            "  inflating: FE_vanilla/FEGBA0248.png  \n",
            "  inflating: FE_vanilla/FEGBA0249.png  \n",
            "  inflating: FE_vanilla/FEGBA0250.png  \n",
            "  inflating: FE_vanilla/FEGBA0251.png  \n",
            "  inflating: FE_vanilla/FEGBA0252.png  \n",
            "  inflating: FE_vanilla/FEGBA0253.png  \n",
            "  inflating: FE_vanilla/FEGBA0254.png  \n",
            "  inflating: FE_vanilla/FEGBA0255.png  \n",
            "  inflating: FE_vanilla/FEGBA0256.png  \n",
            "  inflating: FE_vanilla/FEGBA0257.png  \n",
            "  inflating: FE_vanilla/FEGBA0258.png  \n",
            "  inflating: FE_vanilla/FEGBA0259.png  \n",
            "  inflating: FE_vanilla/FEGBA0260.png  \n",
            "  inflating: FE_vanilla/FEGBA0261.png  \n",
            "  inflating: FE_vanilla/FEGBA0262.png  \n",
            "  inflating: FE_vanilla/FEGBA0263.png  \n",
            "  inflating: FE_vanilla/FEGBA0264.png  \n",
            "  inflating: FE_vanilla/FEGBA0265.png  \n",
            "  inflating: FE_vanilla/FEGBA0266.png  \n",
            "  inflating: FE_vanilla/FEGBA0267.png  \n",
            "  inflating: FE_vanilla/FEGBA0268.png  \n",
            "  inflating: FE_vanilla/FEGBA0269.png  \n",
            "  inflating: FE_vanilla/FEGBA0270.png  \n",
            "  inflating: FE_vanilla/FEGBA0271.png  \n",
            "  inflating: FE_vanilla/FEGBA0272.png  \n",
            "  inflating: FE_vanilla/FEGBA0273.png  \n",
            "  inflating: FE_vanilla/FEGBA0274.png  \n",
            "  inflating: FE_vanilla/FEGBA0275.png  \n",
            "  inflating: FE_vanilla/FEGBA0276.png  \n",
            "  inflating: FE_vanilla/FEGBA0277.png  \n",
            "  inflating: FE_vanilla/FEGBA0278.png  \n",
            "  inflating: FE_vanilla/FEGBA0279.png  \n",
            "  inflating: FE_vanilla/FEGBA0280.png  \n",
            "  inflating: FE_vanilla/FEGBA0281.png  \n",
            "  inflating: FE_vanilla/FEGBA0282.png  \n",
            "  inflating: FE_vanilla/FEGBA0283.png  \n",
            "  inflating: FE_vanilla/FEGBA0284.png  \n",
            "  inflating: FE_vanilla/FEGBA0285.png  \n",
            "  inflating: FE_vanilla/FEGBA0286.png  \n",
            "  inflating: FE_vanilla/FEGBA0287.png  \n",
            "  inflating: FE_vanilla/FEGBA0288.png  \n",
            "  inflating: FE_vanilla/FEGBA0289.png  \n",
            "  inflating: FE_vanilla/FEGBA0290.png  \n",
            "  inflating: FE_vanilla/FEGBA0291.png  \n",
            "  inflating: FE_vanilla/FEGBA0292.png  \n",
            "  inflating: FE_vanilla/FEGBA0293.png  \n",
            "  inflating: FE_vanilla/FEGBA0294.png  \n",
            "  inflating: FE_vanilla/FEGBA0295.png  \n",
            "  inflating: FE_vanilla/FEGBA0296.png  \n",
            "  inflating: FE_vanilla/FEGBA0297.png  \n",
            "  inflating: FE_vanilla/FEGBA0298.png  \n",
            "  inflating: FE_vanilla/FEGBA0299.png  \n",
            "  inflating: FE_vanilla/FEGBA0300.png  \n",
            "  inflating: FE_vanilla/FEGBA0301.png  \n",
            "  inflating: FE_vanilla/FEGBA0302.png  \n",
            "  inflating: FE_vanilla/FEGBA0303.png  \n",
            "  inflating: FE_vanilla/FEGBA0304.png  \n",
            "  inflating: FE_vanilla/FEGBA0312.png  \n",
            "  inflating: FE_vanilla/FEGBA0313.png  \n",
            "  inflating: FE_vanilla/FEGBA0314.png  \n",
            "  inflating: FE_vanilla/FEGBA0315.png  \n",
            "  inflating: FE_vanilla/FEGBA0316.png  \n",
            "  inflating: FE_vanilla/FEGBA0317.png  \n",
            "  inflating: FE_vanilla/FEGBA0318.png  \n",
            "  inflating: FE_vanilla/FEGBA0319.png  \n",
            "  inflating: FE_vanilla/FEGBA0320.png  \n",
            "  inflating: FE_vanilla/FEGBA0321.png  \n",
            "  inflating: FE_vanilla/FEGBA0322.png  \n",
            "  inflating: FE_vanilla/FEGBA0323.png  \n",
            "  inflating: FE_vanilla/FEGBA0324.png  \n",
            "  inflating: FE_vanilla/FEGBA0325.png  \n",
            "  inflating: FE_vanilla/FEGBA0326.png  \n",
            "  inflating: FE_vanilla/FEGBA0327.png  \n",
            "  inflating: FE_vanilla/FEGBA0328.png  \n",
            "  inflating: FE_vanilla/FEGBA0329.png  \n",
            "  inflating: FE_vanilla/FEGBA0330.png  \n",
            "  inflating: FE_vanilla/FEGBA0331.png  \n",
            "  inflating: FE_vanilla/FEGBA0332.png  \n",
            "  inflating: FE_vanilla/FEGBA0333.png  \n",
            "  inflating: FE_vanilla/FEGBA0334.png  \n",
            "  inflating: FE_vanilla/FEGBA0335.png  \n",
            "  inflating: FE_vanilla/FEGBA0336.png  \n",
            "  inflating: FE_vanilla/FEGBA0337.png  \n",
            "  inflating: FE_vanilla/FEGBA0338.png  \n",
            "  inflating: FE_vanilla/FEGBA0339.png  \n",
            "  inflating: FE_vanilla/FEGBA0340.png  \n",
            "  inflating: FE_vanilla/FEGBA0341.png  \n",
            "  inflating: FE_vanilla/FEGBA0342.png  \n",
            "  inflating: FE_vanilla/FEGBA0343.png  \n",
            "  inflating: FE_vanilla/FEGBA0344.png  \n",
            "  inflating: FE_vanilla/FEGBA0345.png  \n",
            "  inflating: FE_vanilla/FEGBA0346.png  \n",
            "  inflating: FE_vanilla/FEGBA0347.png  \n",
            "  inflating: FE_vanilla/FEGBA0348.png  \n",
            "  inflating: FE_vanilla/FEGBA0349.png  \n",
            "  inflating: FE_vanilla/FEGBA0350.png  \n",
            "  inflating: FE_vanilla/FEGBA0351.png  \n",
            "  inflating: FE_vanilla/FEGBA0352.png  \n",
            "  inflating: FE_vanilla/FEGBA0353.png  \n",
            "  inflating: FE_vanilla/FEGBA0354.png  \n",
            "  inflating: FE_vanilla/FEGBA0355.png  \n",
            "  inflating: FE_vanilla/FEGBA0356.png  \n",
            "  inflating: FE_vanilla/FEGBA0357.png  \n",
            "  inflating: FE_vanilla/FEGBA0358.png  \n",
            "  inflating: FE_vanilla/FEGBA0359.png  \n",
            "  inflating: FE_vanilla/FEGBA0360.png  \n",
            "  inflating: FE_vanilla/FEGBA0361.png  \n",
            "  inflating: FE_vanilla/FEGBA0362.png  \n",
            "  inflating: FE_vanilla/FEGBA0363.png  \n",
            "  inflating: FE_vanilla/FEGBA0364.png  \n",
            "  inflating: FE_vanilla/FEGBA0365.png  \n",
            "  inflating: FE_vanilla/FEGBA0366.png  \n",
            "  inflating: FE_vanilla/FEGBA0367.png  \n",
            "  inflating: FE_vanilla/FEGBA0368.png  \n",
            "  inflating: FE_vanilla/FEGBA0369.png  \n",
            "  inflating: FE_vanilla/FEGBA0370.png  \n",
            "  inflating: FE_vanilla/FEGBA0371.png  \n",
            "  inflating: FE_vanilla/FEGBA0372.png  \n",
            "  inflating: FE_vanilla/FEGBA0373.png  \n",
            "  inflating: FE_vanilla/FEGBA0374.png  \n",
            "  inflating: FE_vanilla/FEGBA0375.png  \n",
            "  inflating: FE_vanilla/FEGBA0376.png  \n",
            "  inflating: FE_vanilla/FEGBA0377.png  \n",
            "  inflating: FE_vanilla/FEGBA0378.png  \n",
            "  inflating: FE_vanilla/FEGBA0379.png  \n",
            "  inflating: FE_vanilla/FEGBA0384.png  \n",
            "  inflating: FE_vanilla/FEGBA0385.png  \n",
            "  inflating: FE_vanilla/FEGBA0386.png  \n",
            "  inflating: FE_vanilla/FEGBA0387.png  \n",
            "  inflating: FE_vanilla/FEGBA0388.png  \n",
            "  inflating: FE_vanilla/FEGBA0389.png  \n",
            "  inflating: FE_vanilla/FEGBA0390.png  \n",
            "  inflating: FE_vanilla/FEGBA0391.png  \n",
            "  inflating: FE_vanilla/FEGBA0392.png  \n",
            "  inflating: FE_vanilla/FEGBA0393.png  \n",
            "  inflating: FE_vanilla/FEGBA0394.png  \n",
            "  inflating: FE_vanilla/FEGBA0395.png  \n",
            "  inflating: FE_vanilla/FEGBA0396.png  \n",
            "  inflating: FE_vanilla/FEGBA0397.png  \n",
            "  inflating: FE_vanilla/FEGBA0398.png  \n",
            "  inflating: FE_vanilla/FEGBA0399.png  \n",
            "  inflating: FE_vanilla/FEGBA0408.png  \n",
            "  inflating: FE_vanilla/FEGBA0409.png  \n",
            "  inflating: FE_vanilla/FEGBA0410.png  \n",
            "  inflating: FE_vanilla/FEGBA0411.png  \n",
            "  inflating: FE_vanilla/FEGBA0412.png  \n",
            "  inflating: FE_vanilla/FEGBA0413.png  \n",
            "  inflating: FE_vanilla/FEGBA0414.png  \n",
            "  inflating: FE_vanilla/FEGBA0415.png  \n",
            "  inflating: FE_vanilla/FEGBA0416.png  \n",
            "  inflating: FE_vanilla/FEGBA0417.png  \n",
            "  inflating: FE_vanilla/FEGBA0418.png  \n",
            "  inflating: FE_vanilla/FEGBA0419.png  \n",
            "  inflating: FE_vanilla/FEGBA0420.png  \n",
            "  inflating: FE_vanilla/FEGBA0421.png  \n",
            "  inflating: FE_vanilla/FEGBA0422.png  \n",
            "  inflating: FE_vanilla/FEGBA0423.png  \n",
            "  inflating: FE_vanilla/FEGBA0432.png  \n",
            "  inflating: FE_vanilla/FEGBA0433.png  \n",
            "  inflating: FE_vanilla/FEGBA0434.png  \n",
            "  inflating: FE_vanilla/FEGBA0435.png  \n",
            "  inflating: FE_vanilla/FEGBA0436.png  \n",
            "  inflating: FE_vanilla/FEGBA0437.png  \n",
            "  inflating: FE_vanilla/FEGBA0438.png  \n",
            "  inflating: FE_vanilla/FEGBA0439.png  \n",
            "  inflating: FE_vanilla/FEGBA0440.png  \n",
            "  inflating: FE_vanilla/FEGBA0441.png  \n",
            "  inflating: FE_vanilla/FEGBA0442.png  \n",
            "  inflating: FE_vanilla/FEGBA0443.png  \n",
            "  inflating: FE_vanilla/FEGBA0444.png  \n",
            "  inflating: FE_vanilla/FEGBA0445.png  \n",
            "  inflating: FE_vanilla/FEGBA0446.png  \n",
            "  inflating: FE_vanilla/FEGBA0447.png  \n",
            "  inflating: FE_vanilla/FEGBA0460.png  \n",
            "  inflating: FE_vanilla/FEGBA0461.png  \n",
            "  inflating: FE_vanilla/FEGBA0462.png  \n",
            "  inflating: FE_vanilla/FEGBA0463.png  \n",
            "  inflating: FE_vanilla/FEGBA0464.png  \n",
            "  inflating: FE_vanilla/FEGBA0465.png  \n",
            "  inflating: FE_vanilla/FEGBA0466.png  \n",
            "  inflating: FE_vanilla/FEGBA0467.png  \n",
            "  inflating: FE_vanilla/FEGBA0468.png  \n",
            "  inflating: FE_vanilla/FEGBA0469.png  \n",
            "  inflating: FE_vanilla/FEGBA0470.png  \n",
            "  inflating: FE_vanilla/FEGBA0471.png  \n",
            "  inflating: FE_vanilla/FEGBA0480.png  \n",
            "  inflating: FE_vanilla/FEGBA0481.png  \n",
            "  inflating: FE_vanilla/FEGBA0482.png  \n",
            "  inflating: FE_vanilla/FEGBA0483.png  \n",
            "  inflating: FE_vanilla/FEGBA0484.png  \n",
            "  inflating: FE_vanilla/FEGBA0485.png  \n",
            "  inflating: FE_vanilla/FEGBA0486.png  \n",
            "  inflating: FE_vanilla/FEGBA0487.png  \n",
            "  inflating: FE_vanilla/FEGBA0488.png  \n",
            "  inflating: FE_vanilla/FEGBA0489.png  \n",
            "  inflating: FE_vanilla/FEGBA0490.png  \n",
            "  inflating: FE_vanilla/FEGBA0491.png  \n",
            "  inflating: FE_vanilla/FEGBA0492.png  \n",
            "  inflating: FE_vanilla/FEGBA0493.png  \n",
            "  inflating: FE_vanilla/FEGBA0494.png  \n",
            "  inflating: FE_vanilla/FEGBA0495.png  \n",
            "  inflating: FE_vanilla/FEGBA0504.png  \n",
            "  inflating: FE_vanilla/FEGBA0505.png  \n",
            "  inflating: FE_vanilla/FEGBA0506.png  \n",
            "  inflating: FE_vanilla/FEGBA0507.png  \n",
            "  inflating: FE_vanilla/FEGBA0508.png  \n",
            "  inflating: FE_vanilla/FEGBA0509.png  \n",
            "  inflating: FE_vanilla/FEGBA0510.png  \n",
            "  inflating: FE_vanilla/FEGBA0511.png  \n",
            "  inflating: FE_vanilla/FEGBA0512.png  \n",
            "  inflating: FE_vanilla/FEGBA0513.png  \n",
            "  inflating: FE_vanilla/FEGBA0514.png  \n",
            "  inflating: FE_vanilla/FEGBA0515.png  \n",
            "  inflating: FE_vanilla/FEGBA0516.png  \n",
            "  inflating: FE_vanilla/FEGBA0517.png  \n",
            "  inflating: FE_vanilla/FEGBA0518.png  \n",
            "  inflating: FE_vanilla/FEGBA0519.png  \n",
            "  inflating: FE_vanilla/FEGBA0528.png  \n",
            "  inflating: FE_vanilla/FEGBA0529.png  \n",
            "  inflating: FE_vanilla/FEGBA0530.png  \n",
            "  inflating: FE_vanilla/FEGBA0531.png  \n",
            "  inflating: FE_vanilla/FEGBA0532.png  \n",
            "  inflating: FE_vanilla/FEGBA0533.png  \n",
            "  inflating: FE_vanilla/FEGBA0534.png  \n",
            "  inflating: FE_vanilla/FEGBA0535.png  \n",
            "  inflating: FE_vanilla/FEGBA0536.png  \n",
            "  inflating: FE_vanilla/FEGBA0537.png  \n",
            "  inflating: FE_vanilla/FEGBA0538.png  \n",
            "  inflating: FE_vanilla/FEGBA0539.png  \n",
            "  inflating: FE_vanilla/FEGBA0540.png  \n",
            "  inflating: FE_vanilla/FEGBA0541.png  \n",
            "  inflating: FE_vanilla/FEGBA0542.png  \n",
            "  inflating: FE_vanilla/FEGBA0543.png  \n",
            "  inflating: FE_vanilla/FEGBA0552.png  \n",
            "  inflating: FE_vanilla/FEGBA0553.png  \n",
            "  inflating: FE_vanilla/FEGBA0554.png  \n",
            "  inflating: FE_vanilla/FEGBA0555.png  \n",
            "  inflating: FE_vanilla/FEGBA0556.png  \n",
            "  inflating: FE_vanilla/FEGBA0557.png  \n",
            "  inflating: FE_vanilla/FEGBA0558.png  \n",
            "  inflating: FE_vanilla/FEGBA0559.png  \n",
            "  inflating: FE_vanilla/FEGBA0560.png  \n",
            "  inflating: FE_vanilla/FEGBA0561.png  \n",
            "  inflating: FE_vanilla/FEGBA0562.png  \n",
            "  inflating: FE_vanilla/FEGBA0563.png  \n",
            "  inflating: FE_vanilla/FEGBA0564.png  \n",
            "  inflating: FE_vanilla/FEGBA0565.png  \n",
            "  inflating: FE_vanilla/FEGBA0566.png  \n",
            "  inflating: FE_vanilla/FEGBA0576.png  \n",
            "  inflating: FE_vanilla/FEGBA0577.png  \n",
            "  inflating: FE_vanilla/FEGBA0578.png  \n",
            "  inflating: FE_vanilla/FEGBA0584.png  \n",
            "  inflating: FE_vanilla/FEGBA0585.png  \n",
            "  inflating: FE_vanilla/FEGBA0586.png  \n",
            "  inflating: FE_vanilla/FEGBA0587.png  \n"
          ],
          "name": "stdout"
        }
      ]
    },
    {
      "cell_type": "markdown",
      "metadata": {
        "id": "g0oZRRs2KO5A",
        "colab_type": "text"
      },
      "source": [
        "## Installing StyleGAN2"
      ]
    },
    {
      "cell_type": "markdown",
      "metadata": {
        "id": "hNkwlDEyZdGM",
        "colab_type": "text"
      },
      "source": [
        "### woctezuma's fork of the official StyleGAN2 implementation"
      ]
    },
    {
      "cell_type": "code",
      "metadata": {
        "id": "kKTH4FGzCbaq",
        "colab_type": "code",
        "colab": {
          "base_uri": "https://localhost:8080/",
          "height": 35
        },
        "outputId": "8ea34782-e1de-4f42-cc32-7f5dc96941b1"
      },
      "source": [
        "%cd /content/"
      ],
      "execution_count": null,
      "outputs": [
        {
          "output_type": "stream",
          "text": [
            "/content\n"
          ],
          "name": "stdout"
        }
      ]
    },
    {
      "cell_type": "code",
      "metadata": {
        "id": "mGDunHOOKtFQ",
        "colab_type": "code",
        "colab": {
          "base_uri": "https://localhost:8080/",
          "height": 109
        },
        "outputId": "6f86ae22-7543-46fb-9fa7-63b144878227"
      },
      "source": [
        "!rm -rf stylegan2/\n",
        "!git clone https://github.com/woctezuma/stylegan2.git"
      ],
      "execution_count": null,
      "outputs": [
        {
          "output_type": "stream",
          "text": [
            "Cloning into 'stylegan2'...\n",
            "remote: Enumerating objects: 120, done.\u001b[K\n",
            "Receiving objects:   0% (1/120)   \rReceiving objects:   1% (2/120)   \rReceiving objects:   2% (3/120)   \rReceiving objects:   3% (4/120)   \rReceiving objects:   4% (5/120)   \rReceiving objects:   5% (6/120)   \rReceiving objects:   6% (8/120)   \rReceiving objects:   7% (9/120)   \rReceiving objects:   8% (10/120)   \rReceiving objects:   9% (11/120)   \rReceiving objects:  10% (12/120)   \rReceiving objects:  11% (14/120)   \rReceiving objects:  12% (15/120)   \rReceiving objects:  13% (16/120)   \rReceiving objects:  14% (17/120)   \rReceiving objects:  15% (18/120)   \rReceiving objects:  16% (20/120)   \rReceiving objects:  17% (21/120)   \rReceiving objects:  18% (22/120)   \rReceiving objects:  19% (23/120)   \rReceiving objects:  20% (24/120)   \rReceiving objects:  21% (26/120)   \rReceiving objects:  22% (27/120)   \rReceiving objects:  23% (28/120)   \rReceiving objects:  24% (29/120)   \rReceiving objects:  25% (30/120)   \rReceiving objects:  26% (32/120)   \rReceiving objects:  27% (33/120)   \rReceiving objects:  28% (34/120)   \rReceiving objects:  29% (35/120)   \rReceiving objects:  30% (36/120)   \rReceiving objects:  31% (38/120)   \rReceiving objects:  32% (39/120)   \rReceiving objects:  33% (40/120)   \rReceiving objects:  34% (41/120)   \rReceiving objects:  35% (42/120)   \rReceiving objects:  36% (44/120)   \rReceiving objects:  37% (45/120)   \rReceiving objects:  38% (46/120)   \rremote: Total 120 (delta 0), reused 0 (delta 0), pack-reused 120\u001b[K\n",
            "Receiving objects:  39% (47/120)   \rReceiving objects:  40% (48/120)   \rReceiving objects:  41% (50/120)   \rReceiving objects:  42% (51/120)   \rReceiving objects:  43% (52/120)   \rReceiving objects:  44% (53/120)   \rReceiving objects:  45% (54/120)   \rReceiving objects:  46% (56/120)   \rReceiving objects:  47% (57/120)   \rReceiving objects:  48% (58/120)   \rReceiving objects:  49% (59/120)   \rReceiving objects:  50% (60/120)   \rReceiving objects:  51% (62/120)   \rReceiving objects:  52% (63/120)   \rReceiving objects:  53% (64/120)   \rReceiving objects:  54% (65/120)   \rReceiving objects:  55% (66/120)   \rReceiving objects:  56% (68/120)   \rReceiving objects:  57% (69/120)   \rReceiving objects:  58% (70/120)   \rReceiving objects:  59% (71/120)   \rReceiving objects:  60% (72/120)   \rReceiving objects:  61% (74/120)   \rReceiving objects:  62% (75/120)   \rReceiving objects:  63% (76/120)   \rReceiving objects:  64% (77/120)   \rReceiving objects:  65% (78/120)   \rReceiving objects:  66% (80/120)   \rReceiving objects:  67% (81/120)   \rReceiving objects:  68% (82/120)   \rReceiving objects:  69% (83/120)   \rReceiving objects:  70% (84/120)   \rReceiving objects:  71% (86/120)   \rReceiving objects:  72% (87/120)   \rReceiving objects:  73% (88/120)   \rReceiving objects:  74% (89/120)   \rReceiving objects:  75% (90/120)   \rReceiving objects:  76% (92/120)   \rReceiving objects:  77% (93/120)   \rReceiving objects:  78% (94/120)   \rReceiving objects:  79% (95/120)   \rReceiving objects:  80% (96/120)   \rReceiving objects:  81% (98/120)   \rReceiving objects:  82% (99/120)   \rReceiving objects:  83% (100/120)   \rReceiving objects:  84% (101/120)   \rReceiving objects:  85% (102/120)   \rReceiving objects:  86% (104/120)   \rReceiving objects:  87% (105/120)   \rReceiving objects:  88% (106/120)   \rReceiving objects:  89% (107/120)   \rReceiving objects:  90% (108/120)   \rReceiving objects:  91% (110/120)   \rReceiving objects:  92% (111/120)   \rReceiving objects:  93% (112/120)   \rReceiving objects:  94% (113/120)   \rReceiving objects:  95% (114/120)   \rReceiving objects:  96% (116/120)   \rReceiving objects:  97% (117/120)   \rReceiving objects:  98% (118/120)   \rReceiving objects:  99% (119/120)   \rReceiving objects: 100% (120/120)   \rReceiving objects: 100% (120/120), 586.40 KiB | 2.41 MiB/s, done.\n",
            "Resolving deltas:   0% (0/51)   \rResolving deltas:   3% (2/51)   \rResolving deltas:   5% (3/51)   \rResolving deltas:   9% (5/51)   \rResolving deltas:  13% (7/51)   \rResolving deltas:  15% (8/51)   \rResolving deltas:  17% (9/51)   \rResolving deltas:  19% (10/51)   \rResolving deltas:  21% (11/51)   \rResolving deltas:  23% (12/51)   \rResolving deltas:  25% (13/51)   \rResolving deltas:  41% (21/51)   \rResolving deltas:  43% (22/51)   \rResolving deltas:  45% (23/51)   \rResolving deltas:  50% (26/51)   \rResolving deltas:  58% (30/51)   \rResolving deltas:  60% (31/51)   \rResolving deltas:  64% (33/51)   \rResolving deltas:  66% (34/51)   \rResolving deltas:  92% (47/51)   \rResolving deltas: 100% (51/51)   \rResolving deltas: 100% (51/51), done.\n"
          ],
          "name": "stdout"
        }
      ]
    },
    {
      "cell_type": "code",
      "metadata": {
        "id": "JcD42lGyCSJB",
        "colab_type": "code",
        "colab": {
          "base_uri": "https://localhost:8080/",
          "height": 35
        },
        "outputId": "f113ed82-72f7-45cd-bad3-65bf25187085"
      },
      "source": [
        "pushd"
      ],
      "execution_count": null,
      "outputs": [
        {
          "output_type": "execute_result",
          "data": {
            "text/plain": [
              "['/content']"
            ]
          },
          "metadata": {
            "tags": []
          },
          "execution_count": 26
        }
      ]
    },
    {
      "cell_type": "code",
      "metadata": {
        "id": "zRIGHRXG9WUp",
        "colab_type": "code",
        "colab": {
          "base_uri": "https://localhost:8080/",
          "height": 35
        },
        "outputId": "29039641-a185-43aa-d847-0ed90617ab13"
      },
      "source": [
        "%cd stylegan2/"
      ],
      "execution_count": null,
      "outputs": [
        {
          "output_type": "stream",
          "text": [
            "/content/stylegan2\n"
          ],
          "name": "stdout"
        }
      ]
    },
    {
      "cell_type": "markdown",
      "metadata": {
        "id": "5wg7bIVpb5LM",
        "colab_type": "text"
      },
      "source": [
        "Switch to woctezuma fork of StyleGAN2, designed for Google Colab:\n",
        "\n",
        "1.   google-colab\n",
        "2.   google-colab-save-every-tick\n",
        "\n",
        "\n",
        "-   `google-colab` to save every 2 ticks,\n",
        "-   `google-colab-save-every-tick` to save every tick.\n",
        "\n",
        "\n",
        "\n",
        "NB: It is expected that 1 tick ~ 15 min. However, if you are unlucky with the Colab machine which is allotted, 1 tick ~ 1 hour.\n",
        "\n",
        "You can look at the progress of your trining in your Google Drive in folder results. Both the generated fakes as well as the training .pkl file will be stored there, HOWEVER, each tick will store an approx 300mb of data in your Google Drive so if you are limited on space, I would advise use `google-colab` instead of `google-colab-save-every-tick`"
      ]
    },
    {
      "cell_type": "code",
      "metadata": {
        "id": "iVE7uZHRb11i",
        "colab_type": "code",
        "colab": {
          "base_uri": "https://localhost:8080/",
          "height": 54
        },
        "outputId": "1ea65d2f-2922-4178-f4b8-2b0ae8173f53"
      },
      "source": [
        "!git checkout google-colab-save-every-tick"
      ],
      "execution_count": null,
      "outputs": [
        {
          "output_type": "stream",
          "text": [
            "Branch 'google-colab-save-every-tick' set up to track remote branch 'google-colab-save-every-tick' from 'origin'.\n",
            "Switched to a new branch 'google-colab-save-every-tick'\n"
          ],
          "name": "stdout"
        }
      ]
    },
    {
      "cell_type": "code",
      "metadata": {
        "id": "6aM4C4Ho9g-A",
        "colab_type": "code",
        "colab": {
          "base_uri": "https://localhost:8080/",
          "height": 54
        },
        "outputId": "fa6b385f-3831-4d87-b64c-45b00c267ecf"
      },
      "source": [
        "!nvcc test_nvcc.cu -o test_nvcc -run"
      ],
      "execution_count": null,
      "outputs": [
        {
          "output_type": "stream",
          "text": [
            "CPU says hello.\n",
            "GPU says hello.\n"
          ],
          "name": "stdout"
        }
      ]
    },
    {
      "cell_type": "code",
      "metadata": {
        "id": "nuI-CfYYCSy-",
        "colab_type": "code",
        "colab": {
          "base_uri": "https://localhost:8080/",
          "height": 54
        },
        "outputId": "fa9e20dd-cc50-44dc-a429-a9373576d418"
      },
      "source": [
        "popd"
      ],
      "execution_count": null,
      "outputs": [
        {
          "output_type": "stream",
          "text": [
            "/content\n",
            "popd -> /content\n"
          ],
          "name": "stdout"
        }
      ]
    },
    {
      "cell_type": "markdown",
      "metadata": {
        "id": "VgwgYzlkyCrU",
        "colab_type": "text"
      },
      "source": [
        "## Mounting Google Drive"
      ]
    },
    {
      "cell_type": "code",
      "metadata": {
        "id": "GmokzZyCKA5o",
        "colab_type": "code",
        "colab": {
          "base_uri": "https://localhost:8080/",
          "height": 35
        },
        "outputId": "68aa329d-93cf-48de-8f05-d021dcaa1d79"
      },
      "source": [
        "!pip install Google-Colab-Transfer"
      ],
      "execution_count": null,
      "outputs": [
        {
          "output_type": "stream",
          "text": [
            "Requirement already satisfied: Google-Colab-Transfer in /usr/local/lib/python3.6/dist-packages (0.1.4)\n"
          ],
          "name": "stdout"
        }
      ]
    },
    {
      "cell_type": "code",
      "metadata": {
        "id": "PXvJm3hCKWGf",
        "colab_type": "code",
        "colab": {
          "base_uri": "https://localhost:8080/",
          "height": 54
        },
        "outputId": "22050c82-8a0a-48c0-83c2-a461d0a274e5"
      },
      "source": [
        "import colab_transfer\n",
        "\n",
        "colab_path = colab_transfer.get_path_to_home_of_local_machine()\n",
        "drive_path = colab_transfer.get_path_to_home_of_google_drive()\n",
        "\n",
        "print('Disk of the virtual matchine: {}'.format(colab_path))\n",
        "print('Google Drive: {}'.format(drive_path))"
      ],
      "execution_count": null,
      "outputs": [
        {
          "output_type": "stream",
          "text": [
            "Disk of the virtual matchine: /content/\n",
            "Google Drive: /content/drive/My Drive/\n"
          ],
          "name": "stdout"
        }
      ]
    },
    {
      "cell_type": "code",
      "metadata": {
        "id": "Tpi-xxZxAD_V",
        "colab_type": "code",
        "colab": {
          "base_uri": "https://localhost:8080/",
          "height": 55
        },
        "outputId": "1dbcda66-2257-4adb-8811-3abd02d73a04"
      },
      "source": [
        "colab_transfer.mount_google_drive()"
      ],
      "execution_count": null,
      "outputs": [
        {
          "output_type": "stream",
          "text": [
            "Drive already mounted at /content/drive/; to attempt to forcibly remount, call drive.mount(\"/content/drive/\", force_remount=True).\n"
          ],
          "name": "stdout"
        }
      ]
    },
    {
      "cell_type": "markdown",
      "metadata": {
        "id": "S4DIqyvHz54C",
        "colab_type": "text"
      },
      "source": [
        "## Data parameters"
      ]
    },
    {
      "cell_type": "code",
      "metadata": {
        "id": "57TSMi1NzmNJ",
        "colab_type": "code",
        "colab": {}
      },
      "source": [
        "folder_name = '/content/FE_vanilla'"
      ],
      "execution_count": null,
      "outputs": []
    },
    {
      "cell_type": "markdown",
      "metadata": {
        "id": "ruo5KFL4yw0j",
        "colab_type": "text"
      },
      "source": [
        "## Preparing datasets (once)"
      ]
    },
    {
      "cell_type": "markdown",
      "metadata": {
        "id": "iL6_7wnZKo3w",
        "colab_type": "text"
      },
      "source": [
        "### Preparing data for StyleGAN2"
      ]
    },
    {
      "cell_type": "code",
      "metadata": {
        "id": "whUYxCDgK66P",
        "colab_type": "code",
        "colab": {
          "base_uri": "https://localhost:8080/",
          "height": 72
        },
        "outputId": "12e505b4-4781-4f11-8003-e94cc6cce045"
      },
      "source": [
        "!python stylegan2/dataset_tool.py create_from_images '/content/datasets/fire_emblem' $folder_name"
      ],
      "execution_count": null,
      "outputs": [
        {
          "output_type": "stream",
          "text": [
            "Loading images from \"/content/FE_vanilla\"\n",
            "Creating dataset \"/content/datasets/fire_emblem\"\n",
            "Added 499 images.\n"
          ],
          "name": "stdout"
        }
      ]
    },
    {
      "cell_type": "markdown",
      "metadata": {
        "id": "RWpIjP7hKzJZ",
        "colab_type": "text"
      },
      "source": [
        "## Training networks"
      ]
    },
    {
      "cell_type": "markdown",
      "metadata": {
        "id": "lSZg2xJznZkI",
        "colab_type": "text"
      },
      "source": [
        "There is no need to edit `training/training_loop.py`, thanks to automatic resuming from the latest snapshot, implemented in my fork.\n",
        "\n",
        "Otherwise, one would have to manually edit the file from within the Google Colab session!"
      ]
    },
    {
      "cell_type": "markdown",
      "metadata": {
        "id": "4iFEnZL42vQi",
        "colab_type": "text"
      },
      "source": [
        "### Train with the official StyleGAN2 implementation"
      ]
    },
    {
      "cell_type": "markdown",
      "metadata": {
        "id": "eofNxzR97Fah",
        "colab_type": "text"
      },
      "source": [
        "- `--mirror-augment=true`: data augmentation with horitontal mirroring,\n",
        "- `--total-kimg=350`: **350k images processed (I am keeping it 350k in this notebook because otherwise Colab runs out of time, but ideally you want this value to be higher. My results at 350k img were mediocre. Because of woctezuma's stylegan2 colab implementation, the resulted model gets stored in your google drive after every tick, so even if you run out of time and restart the process, the model will start from where it left.**\n",
        " You most likely want to keep it 500+ and then run this notebook as many as times it takes to complete those number of kimgs. Don't keep the value too high or the model will overfit (I started overfitting at about 700k img).**\n",
        "\n",
        "\n",
        "Model snapshots are directly saved to Google Drive (`--result-dir='/content/drive/My Drive/results_FE'`). \n",
        "\n",
        "### You can look at the progress of your trining in your Google Drive in folder results. Both the generated fakes as well as the training .pkl file are stored there, HOWEVER, each tick will store an approx 300mb of data in your Google Drive if you are using the fork "
      ]
    },
    {
      "cell_type": "code",
      "metadata": {
        "id": "DhPl13bPMaWd",
        "colab_type": "code",
        "colab": {
          "base_uri": "https://localhost:8080/",
          "height": 1000
        },
        "outputId": "115a2776-f12f-4b77-9b82-6ffcc52bb65d"
      },
      "source": [
        "!python stylegan2/run_training.py --config=config-e --metrics=none \\\n",
        "   --data-dir='/content/datasets' --dataset=fire_emblem \\\n",
        "   --mirror-augment=true \\\n",
        "   --total-kimg=700 \\\n",
        "   --result-dir='/content/drive/My Drive/results_FE' \\\n"
      ],
      "execution_count": null,
      "outputs": [
        {
          "output_type": "stream",
          "text": [
            "Local submit - run_dir: /content/drive/My Drive/results_FE/00001-stylegan2-fire_emblem-1gpu-config-e\n",
            "dnnlib: Running training.training_loop.training_loop() on localhost...\n",
            "Streaming data using training.dataset.TFRecordDataset...\n",
            "tcmalloc: large alloc 4294967296 bytes == 0x7b5c000 @  0x7fda8c5e0001 0x7fda8906c765 0x7fda890d0bb0 0x7fda890d2a4f 0x7fda89169048 0x50a635 0x50cd96 0x507d64 0x509042 0x594931 0x549e5f 0x5513d1 0x59fc4e 0x50d356 0x507d64 0x588e5c 0x59fc4e 0x50d356 0x507d64 0x588e5c 0x59fc4e 0x50d356 0x509758 0x50a48d 0x50bfb4 0x509758 0x50a48d 0x50bfb4 0x507d64 0x588e5c 0x59fc4e\n",
            "tcmalloc: large alloc 4294967296 bytes == 0x7fd8c3ac6000 @  0x7fda8c5de1e7 0x7fda8906c5e1 0x7fda890d0c78 0x7fda890d0f37 0x7fda89168f28 0x50a635 0x50cd96 0x507d64 0x509a90 0x50a48d 0x50cd96 0x507d64 0x509a90 0x50a48d 0x50cd96 0x507d64 0x509a90 0x50a48d 0x50cd96 0x509758 0x50a48d 0x50bfb4 0x507d64 0x509a90 0x50a48d 0x50bfb4 0x507d64 0x509a90 0x50a48d 0x50cd96 0x507d64\n",
            "tcmalloc: large alloc 4294967296 bytes == 0x7fd7c2ac4000 @  0x7fda8c5de1e7 0x7fda8906c5e1 0x7fda890d0c78 0x7fda890d0f37 0x7fda4f8d0f05 0x7fda4f254742 0x7fda4f254cf2 0x7fda4f20da7e 0x50a2bf 0x50bfb4 0x509758 0x50a48d 0x50bfb4 0x507d64 0x588c8b 0x59fc4e 0x50d356 0x507d64 0x509a90 0x50a48d 0x50bfb4 0x507d64 0x509a90 0x50a48d 0x50bfb4 0x509758 0x50a48d 0x50bfb4 0x507d64 0x509042 0x594931\n",
            "Dataset shape = [3, 128, 128]\n",
            "Dynamic range = [0, 255]\n",
            "Label size    = 0\n",
            "Loading networks from \"/content/drive/My Drive/results_FE/00000-stylegan2-fire_emblem-1gpu-config-e/network-snapshot-000156.pkl\"...\n",
            "Setting up TensorFlow plugin \"fused_bias_act.cu\": Preprocessing... Loading... Done.\n",
            "Setting up TensorFlow plugin \"upfirdn_2d.cu\": Preprocessing... Loading... Done.\n",
            "\n",
            "G                             Params    OutputShape         WeightShape     \n",
            "---                           ---       ---                 ---             \n",
            "latents_in                    -         (?, 512)            -               \n",
            "labels_in                     -         (?, 0)              -               \n",
            "lod                           -         ()                  -               \n",
            "dlatent_avg                   -         (512,)              -               \n",
            "G_mapping/latents_in          -         (?, 512)            -               \n",
            "G_mapping/labels_in           -         (?, 0)              -               \n",
            "G_mapping/Normalize           -         (?, 512)            -               \n",
            "G_mapping/Dense0              262656    (?, 512)            (512, 512)      \n",
            "G_mapping/Dense1              262656    (?, 512)            (512, 512)      \n",
            "G_mapping/Dense2              262656    (?, 512)            (512, 512)      \n",
            "G_mapping/Dense3              262656    (?, 512)            (512, 512)      \n",
            "G_mapping/Dense4              262656    (?, 512)            (512, 512)      \n",
            "G_mapping/Dense5              262656    (?, 512)            (512, 512)      \n",
            "G_mapping/Dense6              262656    (?, 512)            (512, 512)      \n",
            "G_mapping/Dense7              262656    (?, 512)            (512, 512)      \n",
            "G_mapping/Broadcast           -         (?, 12, 512)        -               \n",
            "G_mapping/dlatents_out        -         (?, 12, 512)        -               \n",
            "Truncation/Lerp               -         (?, 12, 512)        -               \n",
            "G_synthesis/dlatents_in       -         (?, 12, 512)        -               \n",
            "G_synthesis/4x4/Const         8192      (?, 512, 4, 4)      (1, 512, 4, 4)  \n",
            "G_synthesis/4x4/Conv          2622465   (?, 512, 4, 4)      (3, 3, 512, 512)\n",
            "G_synthesis/4x4/ToRGB         264195    (?, 3, 4, 4)        (1, 1, 512, 3)  \n",
            "G_synthesis/8x8/Conv0_up      2622465   (?, 512, 8, 8)      (3, 3, 512, 512)\n",
            "G_synthesis/8x8/Conv1         2622465   (?, 512, 8, 8)      (3, 3, 512, 512)\n",
            "G_synthesis/8x8/Upsample      -         (?, 3, 8, 8)        -               \n",
            "G_synthesis/8x8/ToRGB         264195    (?, 3, 8, 8)        (1, 1, 512, 3)  \n",
            "G_synthesis/16x16/Conv0_up    2622465   (?, 512, 16, 16)    (3, 3, 512, 512)\n",
            "G_synthesis/16x16/Conv1       2622465   (?, 512, 16, 16)    (3, 3, 512, 512)\n",
            "G_synthesis/16x16/Upsample    -         (?, 3, 16, 16)      -               \n",
            "G_synthesis/16x16/ToRGB       264195    (?, 3, 16, 16)      (1, 1, 512, 3)  \n",
            "G_synthesis/32x32/Conv0_up    2622465   (?, 512, 32, 32)    (3, 3, 512, 512)\n",
            "G_synthesis/32x32/Conv1       2622465   (?, 512, 32, 32)    (3, 3, 512, 512)\n",
            "G_synthesis/32x32/Upsample    -         (?, 3, 32, 32)      -               \n",
            "G_synthesis/32x32/ToRGB       264195    (?, 3, 32, 32)      (1, 1, 512, 3)  \n",
            "G_synthesis/64x64/Conv0_up    1442561   (?, 256, 64, 64)    (3, 3, 512, 256)\n",
            "G_synthesis/64x64/Conv1       721409    (?, 256, 64, 64)    (3, 3, 256, 256)\n",
            "G_synthesis/64x64/Upsample    -         (?, 3, 64, 64)      -               \n",
            "G_synthesis/64x64/ToRGB       132099    (?, 3, 64, 64)      (1, 1, 256, 3)  \n",
            "G_synthesis/128x128/Conv0_up  426369    (?, 128, 128, 128)  (3, 3, 256, 128)\n",
            "G_synthesis/128x128/Conv1     213249    (?, 128, 128, 128)  (3, 3, 128, 128)\n",
            "G_synthesis/128x128/Upsample  -         (?, 3, 128, 128)    -               \n",
            "G_synthesis/128x128/ToRGB     66051     (?, 3, 128, 128)    (1, 1, 128, 3)  \n",
            "G_synthesis/images_out        -         (?, 3, 128, 128)    -               \n",
            "G_synthesis/noise0            -         (1, 1, 4, 4)        -               \n",
            "G_synthesis/noise1            -         (1, 1, 8, 8)        -               \n",
            "G_synthesis/noise2            -         (1, 1, 8, 8)        -               \n",
            "G_synthesis/noise3            -         (1, 1, 16, 16)      -               \n",
            "G_synthesis/noise4            -         (1, 1, 16, 16)      -               \n",
            "G_synthesis/noise5            -         (1, 1, 32, 32)      -               \n",
            "G_synthesis/noise6            -         (1, 1, 32, 32)      -               \n",
            "G_synthesis/noise7            -         (1, 1, 64, 64)      -               \n",
            "G_synthesis/noise8            -         (1, 1, 64, 64)      -               \n",
            "G_synthesis/noise9            -         (1, 1, 128, 128)    -               \n",
            "G_synthesis/noise10           -         (1, 1, 128, 128)    -               \n",
            "images_out                    -         (?, 3, 128, 128)    -               \n",
            "---                           ---       ---                 ---             \n",
            "Total                         24525213                                      \n",
            "\n",
            "\n",
            "D                    Params    OutputShape         WeightShape     \n",
            "---                  ---       ---                 ---             \n",
            "images_in            -         (?, 3, 128, 128)    -               \n",
            "labels_in            -         (?, 0)              -               \n",
            "128x128/FromRGB      512       (?, 128, 128, 128)  (1, 1, 3, 128)  \n",
            "128x128/Conv0        147584    (?, 128, 128, 128)  (3, 3, 128, 128)\n",
            "128x128/Conv1_down   295168    (?, 256, 64, 64)    (3, 3, 128, 256)\n",
            "128x128/Skip         32768     (?, 256, 64, 64)    (1, 1, 128, 256)\n",
            "64x64/Conv0          590080    (?, 256, 64, 64)    (3, 3, 256, 256)\n",
            "64x64/Conv1_down     1180160   (?, 512, 32, 32)    (3, 3, 256, 512)\n",
            "64x64/Skip           131072    (?, 512, 32, 32)    (1, 1, 256, 512)\n",
            "32x32/Conv0          2359808   (?, 512, 32, 32)    (3, 3, 512, 512)\n",
            "32x32/Conv1_down     2359808   (?, 512, 16, 16)    (3, 3, 512, 512)\n",
            "32x32/Skip           262144    (?, 512, 16, 16)    (1, 1, 512, 512)\n",
            "16x16/Conv0          2359808   (?, 512, 16, 16)    (3, 3, 512, 512)\n",
            "16x16/Conv1_down     2359808   (?, 512, 8, 8)      (3, 3, 512, 512)\n",
            "16x16/Skip           262144    (?, 512, 8, 8)      (1, 1, 512, 512)\n",
            "8x8/Conv0            2359808   (?, 512, 8, 8)      (3, 3, 512, 512)\n",
            "8x8/Conv1_down       2359808   (?, 512, 4, 4)      (3, 3, 512, 512)\n",
            "8x8/Skip             262144    (?, 512, 4, 4)      (1, 1, 512, 512)\n",
            "4x4/MinibatchStddev  -         (?, 513, 4, 4)      -               \n",
            "4x4/Conv             2364416   (?, 512, 4, 4)      (3, 3, 513, 512)\n",
            "4x4/Dense0           4194816   (?, 512)            (8192, 512)     \n",
            "Output               513       (?, 1)              (512, 1)        \n",
            "scores_out           -         (?, 1)              -               \n",
            "---                  ---       ---                 ---             \n",
            "Total                23882369                                      \n",
            "\n",
            "Building TensorFlow graph...\n",
            "Initializing logs...\n",
            "Training for 700 kimg...\n",
            "\n",
            "tick 0     kimg 156.1    lod 0.00  minibatch 32   time 21s          sec/tick 20.9    sec/kimg 163.33  maintenance 0.0    gpumem 4.6\n",
            "tick 1     kimg 168.2    lod 0.00  minibatch 32   time 17m 50s      sec/tick 1024.1  sec/kimg 85.12   maintenance 25.4   gpumem 4.6\n",
            "tick 2     kimg 180.2    lod 0.00  minibatch 32   time 35m 11s      sec/tick 1024.7  sec/kimg 85.16   maintenance 16.1   gpumem 4.6\n",
            "tick 3     kimg 192.2    lod 0.00  minibatch 32   time 52m 32s      sec/tick 1024.1  sec/kimg 85.11   maintenance 17.0   gpumem 4.6\n",
            "tick 4     kimg 204.3    lod 0.00  minibatch 32   time 1h 09m 53s   sec/tick 1024.5  sec/kimg 85.15   maintenance 15.9   gpumem 4.6\n",
            "tick 5     kimg 216.3    lod 0.00  minibatch 32   time 1h 27m 13s   sec/tick 1024.4  sec/kimg 85.14   maintenance 15.8   gpumem 4.6\n",
            "tick 6     kimg 228.3    lod 0.00  minibatch 32   time 1h 44m 34s   sec/tick 1024.7  sec/kimg 85.16   maintenance 15.9   gpumem 4.6\n",
            "tick 7     kimg 240.4    lod 0.00  minibatch 32   time 2h 01m 53s   sec/tick 1023.8  sec/kimg 85.09   maintenance 15.8   gpumem 4.6\n",
            "tick 8     kimg 252.4    lod 0.00  minibatch 32   time 2h 19m 13s   sec/tick 1024.4  sec/kimg 85.14   maintenance 15.9   gpumem 4.6\n",
            "tick 9     kimg 264.4    lod 0.00  minibatch 32   time 2h 36m 35s   sec/tick 1024.6  sec/kimg 85.16   maintenance 16.9   gpumem 4.6\n",
            "tick 10    kimg 276.4    lod 0.00  minibatch 32   time 2h 53m 56s   sec/tick 1025.1  sec/kimg 85.20   maintenance 15.8   gpumem 4.6\n",
            "tick 11    kimg 288.5    lod 0.00  minibatch 32   time 3h 11m 16s   sec/tick 1024.4  sec/kimg 85.14   maintenance 15.9   gpumem 4.6\n",
            "tick 12    kimg 300.5    lod 0.00  minibatch 32   time 3h 28m 37s   sec/tick 1025.3  sec/kimg 85.21   maintenance 16.0   gpumem 4.6\n",
            "tick 13    kimg 312.5    lod 0.00  minibatch 32   time 3h 45m 58s   sec/tick 1024.4  sec/kimg 85.14   maintenance 15.7   gpumem 4.6\n"
          ],
          "name": "stdout"
        }
      ]
    },
    {
      "cell_type": "markdown",
      "metadata": {
        "id": "Wy8y-0u-zdMx",
        "colab_type": "text"
      },
      "source": [
        "## Generate Images\n",
        "\n",
        "Generate 1000 images (Seeds 0 to 999). Use unique/different seeds if you want different results.\n",
        "\n",
        "Psi is the basically the amount of truncation we do on the results. If psi is 1, there is no untruncation (that is, even the bad results are generated). MORE variety but WORSE results.\n",
        "\n",
        "For example, If psi is 0.5, it means that we are truncating the results that are very far off from our original dataset so with truncation_psi set to 0.5, we would have LESS variety but BETTER results."
      ]
    },
    {
      "cell_type": "markdown",
      "metadata": {
        "id": "hndcYNEk2FTX",
        "colab_type": "text"
      },
      "source": [
        "### Replace the pickel path variable with path to your the .pkl file of the model that you want to use.\n",
        "\n",
        "### PAY ATTENTION TO THE \\ AFTER MY IN THE PATH. Make sure you put it after My after replacing the link otherwise the space will be treated as a different argument. "
      ]
    },
    {
      "cell_type": "code",
      "metadata": {
        "id": "1x8-ZNZLnaYy",
        "colab_type": "code",
        "colab": {}
      },
      "source": [
        "# pickle_path = '''/content/drive/My\\ Drive/results/00003-stylegan2-steam-1gpu-config-e/network-snapshot-000697.pkl'''\n",
        "# !python stylegan2/run_generator.py generate-images --network=$pickle_path \\\n",
        "#   --seeds=0-999 --truncation-psi=1.0"
      ],
      "execution_count": null,
      "outputs": []
    },
    {
      "cell_type": "markdown",
      "metadata": {
        "id": "S7XaB_My4YRO",
        "colab_type": "text"
      },
      "source": [
        "# The results are stored in the results/ "
      ]
    }
  ]
}