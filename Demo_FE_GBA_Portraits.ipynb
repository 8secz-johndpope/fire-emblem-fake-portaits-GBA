{
  "nbformat": 4,
  "nbformat_minor": 0,
  "metadata": {
    "colab": {
      "name": "Fire Emblem GBA Fake Portraits.ipynb",
      "provenance": [],
      "collapsed_sections": [],
      "toc_visible": true,
      "authorship_tag": "ABX9TyOqaewt1mBdWbHPWA06SgZV",
      "include_colab_link": true
    },
    "kernelspec": {
      "name": "python3",
      "display_name": "Python 3"
    },
    "accelerator": "GPU"
  },
  "cells": [
    {
      "cell_type": "markdown",
      "metadata": {
        "id": "view-in-github",
        "colab_type": "text"
      },
      "source": [
        "<a href=\"https://colab.research.google.com/github/mphirke/fire-emblem-fake-portaits-GBA/blob/master/Demo_FE_GBA_Portraits.ipynb\" target=\"_parent\"><img src=\"https://colab.research.google.com/assets/colab-badge.svg\" alt=\"Open In Colab\"/></a>"
      ]
    },
    {
      "cell_type": "markdown",
      "metadata": {
        "id": "rAqPxHi7yC25",
        "colab_type": "text"
      },
      "source": [
        "# Fake Fire Emblem GBA Portraits Generator using StyleGAN2\n",
        "\n",
        "I was looking at fake faces creation from real faces and I wondered how it'd be to create fake GBA portraits. Check out my github repo for more details - https://github.com/mphirke/fire-emblem-fake-portaits-GBA.\n",
        "\n",
        "**Thanks to spriters:**\n",
        "1. [Aegius (Zach)](https://feuniverse.us/u/Aegius) who gave ~30 portraits from his [project (Necrosis Among the Living).](https://feuniverse.us/t/necrosis-among-the-living/8815)\n",
        "2. [Fire Emblem Mugs](https://www.deviantart.com/atey/art/Fire-Emblem-Mugs-216376087) by [Atey](https://www.deviantart.com/atey) who has posted the linked portraits for use freely.\n",
        "3. [Servants from FateGO in the GBA portrait style](https://www.reddit.com/r/fireemblem/comments/c1c74a/servants_from_fatego_in_the_gba_portrait_style/), [Collection of Fire Emblem Fates GBA Mugs](https://www.reddit.com/r/fireemblem/comments/4b0ra9/collection_of_fire_emblem_fates_gba_mugs/), [Nohr in GBA Style](https://www.reddit.com/r/fireemblem/comments/3xmweg/nohr_in_gba_style/) by u/[Toaomr](https://www.reddit.com/user/Toaomr) on Reddit and Twitter : [@toaomr](https://twitter.com/toaomr)\n",
        "4. [Fire Emblem Custom mug GBA spread sheet](https://www.deviantart.com/caringcarrot/art/Fire-Emblem-Custom-mug-GBA-Sprite-Sheet-804177772) by [caringcarrot](https://www.deviantart.caom/caringcarrot)\n",
        "\n",
        "### **How do I use this?**\n",
        "\n",
        "Step 1. Press Connect button on the top right (you may be prompted for a captcha by Google).\n",
        "\n",
        "Step 2. This should not be a problem usually but first, ensure you are connected to a GPU runtime. This can be done by going to Runtime (look at top left menu) > Change Runtime type and ensuring the hardware accelerator is set to GPU. You can also run the first cell (click the play button next to first code cell on the left after hovering over it). If there is no problem with the GPU, there will be no error.\n",
        "\n",
        "Step 3. In the top left menu, press Runtime > Run All.\n",
        "\n",
        "Step 4. Let the notebook run for a minute or two and scroll down to just above end note."
      ]
    },
    {
      "cell_type": "code",
      "metadata": {
        "id": "6LcZbB9xw8Yg",
        "colab_type": "code",
        "colab": {}
      },
      "source": [
        "output = !nvidia-smi -L\n",
        "if output[0] == \"NVIDIA-SMI has failed because it couldn't communicate with the NVIDIA driver. Make sure that the latest NVIDIA driver is installed and running.\":\n",
        "    raise AssertionError(\"Runtime is not GPU. Please switch to GPU Runtime.\")"
      ],
      "execution_count": 1,
      "outputs": []
    },
    {
      "cell_type": "code",
      "metadata": {
        "id": "IeNrW6escqbM",
        "colab_type": "code",
        "colab": {
          "base_uri": "https://localhost:8080/",
          "height": 1000
        },
        "outputId": "7496e909-cd24-450c-df33-382f900004b7"
      },
      "source": [
        "%tensorflow_version 1.x\n",
        "!git clone https://github.com/woctezuma/stylegan2.git\n",
        "!git clone https://github.com/mphirke/fire-emblem-fake-portaits-GBA.git\n",
        "!pip install jupyter-dash -q\n",
        "!pip install dash-bootstrap-components"
      ],
      "execution_count": 2,
      "outputs": [
        {
          "output_type": "stream",
          "text": [
            "TensorFlow 1.x selected.\n",
            "Cloning into 'stylegan2'...\n",
            "remote: Enumerating objects: 120, done.\u001b[K\n",
            "remote: Total 120 (delta 0), reused 0 (delta 0), pack-reused 120\u001b[K\n",
            "Receiving objects: 100% (120/120), 587.46 KiB | 667.00 KiB/s, done.\n",
            "Resolving deltas: 100% (51/51), done.\n",
            "Cloning into 'fire-emblem-fake-portaits-GBA'...\n",
            "remote: Enumerating objects: 40, done.\u001b[K\n",
            "remote: Counting objects: 100% (40/40), done.\u001b[K\n",
            "remote: Compressing objects: 100% (38/38), done.\u001b[K\n",
            "remote: Total 74 (delta 10), reused 15 (delta 1), pack-reused 34\u001b[K\n",
            "Unpacking objects: 100% (74/74), done.\n",
            "\u001b[K     |████████████████████████████████| 51kB 1.5MB/s \n",
            "\u001b[K     |████████████████████████████████| 71kB 3.5MB/s \n",
            "\u001b[K     |████████████████████████████████| 1.2MB 22.9MB/s \n",
            "\u001b[K     |████████████████████████████████| 3.4MB 37.8MB/s \n",
            "\u001b[K     |████████████████████████████████| 194kB 41.8MB/s \n",
            "\u001b[K     |████████████████████████████████| 1.8MB 32.3MB/s \n",
            "\u001b[K     |████████████████████████████████| 358kB 37.8MB/s \n",
            "\u001b[?25h  Building wheel for ansi2html (setup.py) ... \u001b[?25l\u001b[?25hdone\n",
            "  Building wheel for dash (setup.py) ... \u001b[?25l\u001b[?25hdone\n",
            "  Building wheel for flask-compress (setup.py) ... \u001b[?25l\u001b[?25hdone\n",
            "  Building wheel for dash-renderer (setup.py) ... \u001b[?25l\u001b[?25hdone\n",
            "  Building wheel for dash-core-components (setup.py) ... \u001b[?25l\u001b[?25hdone\n",
            "  Building wheel for dash-html-components (setup.py) ... \u001b[?25l\u001b[?25hdone\n",
            "  Building wheel for dash-table (setup.py) ... \u001b[?25l\u001b[?25hdone\n",
            "Collecting dash-bootstrap-components\n",
            "\u001b[?25l  Downloading https://files.pythonhosted.org/packages/da/09/9f100586edd1605409c9be8a8d1eabd5cfd1b4a7b842e2761e9c44eedd89/dash-bootstrap-components-0.10.3.tar.gz (107kB)\n",
            "\u001b[K     |████████████████████████████████| 112kB 2.8MB/s \n",
            "\u001b[?25h  Installing build dependencies ... \u001b[?25l\u001b[?25hdone\n",
            "  Getting requirements to build wheel ... \u001b[?25l\u001b[?25hdone\n",
            "    Preparing wheel metadata ... \u001b[?25l\u001b[?25hdone\n",
            "Requirement already satisfied: dash>=1.9.0 in /usr/local/lib/python3.6/dist-packages (from dash-bootstrap-components) (1.14.0)\n",
            "Requirement already satisfied: dash-renderer==1.6.0 in /usr/local/lib/python3.6/dist-packages (from dash>=1.9.0->dash-bootstrap-components) (1.6.0)\n",
            "Requirement already satisfied: dash-html-components==1.0.3 in /usr/local/lib/python3.6/dist-packages (from dash>=1.9.0->dash-bootstrap-components) (1.0.3)\n",
            "Requirement already satisfied: plotly in /usr/local/lib/python3.6/dist-packages (from dash>=1.9.0->dash-bootstrap-components) (4.4.1)\n",
            "Requirement already satisfied: future in /usr/local/lib/python3.6/dist-packages (from dash>=1.9.0->dash-bootstrap-components) (0.16.0)\n",
            "Requirement already satisfied: flask-compress in /usr/local/lib/python3.6/dist-packages (from dash>=1.9.0->dash-bootstrap-components) (1.5.0)\n",
            "Requirement already satisfied: dash-table==4.9.0 in /usr/local/lib/python3.6/dist-packages (from dash>=1.9.0->dash-bootstrap-components) (4.9.0)\n",
            "Requirement already satisfied: Flask>=1.0.2 in /usr/local/lib/python3.6/dist-packages (from dash>=1.9.0->dash-bootstrap-components) (1.1.2)\n",
            "Requirement already satisfied: dash-core-components==1.10.2 in /usr/local/lib/python3.6/dist-packages (from dash>=1.9.0->dash-bootstrap-components) (1.10.2)\n",
            "Requirement already satisfied: retrying>=1.3.3 in /usr/local/lib/python3.6/dist-packages (from plotly->dash>=1.9.0->dash-bootstrap-components) (1.3.3)\n",
            "Requirement already satisfied: six in /usr/local/lib/python3.6/dist-packages (from plotly->dash>=1.9.0->dash-bootstrap-components) (1.15.0)\n",
            "Requirement already satisfied: brotli in /usr/local/lib/python3.6/dist-packages (from flask-compress->dash>=1.9.0->dash-bootstrap-components) (1.0.7)\n",
            "Requirement already satisfied: itsdangerous>=0.24 in /usr/local/lib/python3.6/dist-packages (from Flask>=1.0.2->dash>=1.9.0->dash-bootstrap-components) (1.1.0)\n",
            "Requirement already satisfied: click>=5.1 in /usr/local/lib/python3.6/dist-packages (from Flask>=1.0.2->dash>=1.9.0->dash-bootstrap-components) (7.1.2)\n",
            "Requirement already satisfied: Werkzeug>=0.15 in /usr/local/lib/python3.6/dist-packages (from Flask>=1.0.2->dash>=1.9.0->dash-bootstrap-components) (1.0.1)\n",
            "Requirement already satisfied: Jinja2>=2.10.1 in /usr/local/lib/python3.6/dist-packages (from Flask>=1.0.2->dash>=1.9.0->dash-bootstrap-components) (2.11.2)\n",
            "Requirement already satisfied: MarkupSafe>=0.23 in /usr/local/lib/python3.6/dist-packages (from Jinja2>=2.10.1->Flask>=1.0.2->dash>=1.9.0->dash-bootstrap-components) (1.1.1)\n",
            "Building wheels for collected packages: dash-bootstrap-components\n",
            "  Building wheel for dash-bootstrap-components (PEP 517) ... \u001b[?25l\u001b[?25hdone\n",
            "  Created wheel for dash-bootstrap-components: filename=dash_bootstrap_components-0.10.3-cp36-none-any.whl size=179484 sha256=cd578417dbeae6577e8d01e6ca4759ae8ce4375f22da15515c60a13be2a8cac3\n",
            "  Stored in directory: /root/.cache/pip/wheels/c0/96/96/1900eafa8fba572ad4f539891d37e37a480c0b045bf92df243\n",
            "Successfully built dash-bootstrap-components\n",
            "Installing collected packages: dash-bootstrap-components\n",
            "Successfully installed dash-bootstrap-components-0.10.3\n"
          ],
          "name": "stdout"
        }
      ]
    },
    {
      "cell_type": "code",
      "metadata": {
        "id": "PM-yj2Qvj3XJ",
        "colab_type": "code",
        "colab": {
          "base_uri": "https://localhost:8080/",
          "height": 110
        },
        "outputId": "f3d3d984-1e35-439f-ae0a-64d7d43fa401"
      },
      "source": [
        "exec(open('fire-emblem-fake-portaits-GBA/load_pickle.py').read())"
      ],
      "execution_count": 4,
      "outputs": [
        {
          "output_type": "stream",
          "text": [
            "Pkl model not found, downloading...\n",
            "Pkl model not found, downloading...\n",
            "Pkl model not found, downloading...\n",
            "Pkl model not found, downloading...\n",
            "Pkl model not found, downloading...\n"
          ],
          "name": "stdout"
        }
      ]
    },
    {
      "cell_type": "code",
      "metadata": {
        "id": "oV9-jc4piKxz",
        "colab_type": "code",
        "colab": {
          "base_uri": "https://localhost:8080/",
          "height": 671
        },
        "outputId": "425c1a53-500e-49b9-9edb-d8ef8eabdf74"
      },
      "source": [
        "exec(open('fire-emblem-fake-portaits-GBA/dash_app.py').read())\n",
        "app.run_server(mode='inline')"
      ],
      "execution_count": 6,
      "outputs": [
        {
          "output_type": "display_data",
          "data": {
            "application/javascript": [
              "(async (port, path, width, height, cache, element) => {\n",
              "    if (!google.colab.kernel.accessAllowed && !cache) {\n",
              "      return;\n",
              "    }\n",
              "    element.appendChild(document.createTextNode(''));\n",
              "    const url = await google.colab.kernel.proxyPort(port, {cache});\n",
              "    const iframe = document.createElement('iframe');\n",
              "    iframe.src = url + path;\n",
              "    iframe.height = height;\n",
              "    iframe.width = width;\n",
              "    iframe.style.border = 0;\n",
              "    element.appendChild(iframe);\n",
              "  })(8050, \"/\", \"100%\", 650, false, window.element)"
            ],
            "text/plain": [
              "<IPython.core.display.Javascript object>"
            ]
          },
          "metadata": {
            "tags": []
          }
        }
      ]
    },
    {
      "cell_type": "markdown",
      "metadata": {
        "id": "mejRfXFsIobr",
        "colab_type": "text"
      },
      "source": [
        "# End note\n",
        "\n",
        "This project was purely made for educational purposes/research purposes and the code base is strictly non-commercial as it is licensed under [Nvidia Source Code License-NC](https://github.com/mphirke/fire-emblem-fake-portaits-GBA/blob/master/LICENSE.md) because of usage of StyleGAN2. You are free to use (credit appreciated but not required) this tool as long as you use it reponsibly and non-commerically but we are not responsible for any uses (read the license for more details). Do not ask us for the training dataset. We do not have the permission to redistribute the artist'  works.\n",
        "\n",
        "**References:**\n",
        "\n",
        " 1. [Steam StyleGAN2 by woctezuma](https://github.com/woctezuma/steam-stylegan2)\n",
        " 2. [The original StyleGAN2 repository](https://github.com/NVlabs/stylegan2)\n",
        " 3. [@woctezuma](https://github.com/woctezuma)'s [fork of StyleGAN2 for easy saving results in google drive.](https://github.com/woctezuma/stylegan2)\n",
        "\n",
        "StyleGAN2 citation:\n",
        "\n",
        "```\n",
        "@article{Karras2019stylegan2,\n",
        "  title   = {Analyzing and Improving the Image Quality of {StyleGAN}},\n",
        "  author  = {Tero Karras and Samuli Laine and Miika Aittala and Janne Hellsten and Jaakko Lehtinen and Timo Aila},\n",
        "  journal = {CoRR},\n",
        "  volume  = {abs/1912.04958},\n",
        "  year    = {2019},\n",
        "}\n",
        "```\n",
        "\n",
        "\n",
        "\n",
        "Do check out the official [github repo ]((https://github.com/mphirke/fire-emblem-fake-portaits-GBA)) (and leave a star if you wish) if you had fun with this or want to look at the notebook I used to train this model.\n",
        "\n",
        "If you want to see how the AI progressed (does not include all stages but covers enough to give an idea):\n",
        "\n",
        "<div align=\"center\">\n",
        "  <a href=\"https://www.youtube.com/watch?v=DKpNqQ-9sAI\" target=\"_blank\"><img src=\"https://www.dropbox.com/s/j4fvh1rxqtjcr3y/FE_video_thumbnail.png?raw=1\" alt=\"IMAGE ALT TEXT\"></a>\n",
        "</div>"
      ]
    }
  ]
}